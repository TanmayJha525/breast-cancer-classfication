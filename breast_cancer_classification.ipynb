{
  "nbformat": 4,
  "nbformat_minor": 0,
  "metadata": {
    "colab": {
      "provenance": [],
      "authorship_tag": "ABX9TyPDh2SWiHlWBzOffXpRwZW1"
    },
    "kernelspec": {
      "name": "python3",
      "display_name": "Python 3"
    },
    "language_info": {
      "name": "python"
    }
  },
  "cells": [
    {
      "cell_type": "markdown",
      "source": [
        "**Types of Tumor**\n",
        "\n",
        "\n",
        "*   Benign Tumour (non-cancerous)\n",
        "*   Malignant Tumour (cancerous)\n",
        "\n",
        "**Fine needle aspiration** is a biopsy procedure (dataset is based on this) that can help diagnose/rule out conditions like cancer. (invasive procedure, procedures like ultrasound are not invasive)\n",
        "\n",
        "**General Observations/Factors:**\n",
        "\n",
        "\n",
        "*   A basic LR model yields an accuracy of 0.956 with the training data and 0.912 with the test data, which is fatal when it comes to fields like healthcare.\n",
        "*   **False-Benign** are more dangerous outcomes than **False-Malignant** as it can cost the life of a person and hence features like precision and recall come into handy (including weighted precision)."
      ],
      "metadata": {
        "id": "XEuWQ5FtlRjQ"
      }
    },
    {
      "cell_type": "code",
      "source": [
        "%matplotlib inline"
      ],
      "metadata": {
        "id": "g-NBAm8w7r1E"
      },
      "execution_count": 258,
      "outputs": []
    },
    {
      "cell_type": "code",
      "source": [
        "    from google.colab import files\n",
        "    uploaded = files.upload()"
      ],
      "metadata": {
        "colab": {
          "base_uri": "https://localhost:8080/",
          "height": 74
        },
        "id": "5mZRVpw_mCPk",
        "outputId": "3192aed3-a1d4-4b0e-cd1b-ee3a7bfb7fe7"
      },
      "execution_count": 259,
      "outputs": [
        {
          "output_type": "display_data",
          "data": {
            "text/plain": [
              "<IPython.core.display.HTML object>"
            ],
            "text/html": [
              "\n",
              "     <input type=\"file\" id=\"files-454853da-3d6a-4f8d-86ee-f09d8a0a97bc\" name=\"files[]\" multiple disabled\n",
              "        style=\"border:none\" />\n",
              "     <output id=\"result-454853da-3d6a-4f8d-86ee-f09d8a0a97bc\">\n",
              "      Upload widget is only available when the cell has been executed in the\n",
              "      current browser session. Please rerun this cell to enable.\n",
              "      </output>\n",
              "      <script>// Copyright 2017 Google LLC\n",
              "//\n",
              "// Licensed under the Apache License, Version 2.0 (the \"License\");\n",
              "// you may not use this file except in compliance with the License.\n",
              "// You may obtain a copy of the License at\n",
              "//\n",
              "//      http://www.apache.org/licenses/LICENSE-2.0\n",
              "//\n",
              "// Unless required by applicable law or agreed to in writing, software\n",
              "// distributed under the License is distributed on an \"AS IS\" BASIS,\n",
              "// WITHOUT WARRANTIES OR CONDITIONS OF ANY KIND, either express or implied.\n",
              "// See the License for the specific language governing permissions and\n",
              "// limitations under the License.\n",
              "\n",
              "/**\n",
              " * @fileoverview Helpers for google.colab Python module.\n",
              " */\n",
              "(function(scope) {\n",
              "function span(text, styleAttributes = {}) {\n",
              "  const element = document.createElement('span');\n",
              "  element.textContent = text;\n",
              "  for (const key of Object.keys(styleAttributes)) {\n",
              "    element.style[key] = styleAttributes[key];\n",
              "  }\n",
              "  return element;\n",
              "}\n",
              "\n",
              "// Max number of bytes which will be uploaded at a time.\n",
              "const MAX_PAYLOAD_SIZE = 100 * 1024;\n",
              "\n",
              "function _uploadFiles(inputId, outputId) {\n",
              "  const steps = uploadFilesStep(inputId, outputId);\n",
              "  const outputElement = document.getElementById(outputId);\n",
              "  // Cache steps on the outputElement to make it available for the next call\n",
              "  // to uploadFilesContinue from Python.\n",
              "  outputElement.steps = steps;\n",
              "\n",
              "  return _uploadFilesContinue(outputId);\n",
              "}\n",
              "\n",
              "// This is roughly an async generator (not supported in the browser yet),\n",
              "// where there are multiple asynchronous steps and the Python side is going\n",
              "// to poll for completion of each step.\n",
              "// This uses a Promise to block the python side on completion of each step,\n",
              "// then passes the result of the previous step as the input to the next step.\n",
              "function _uploadFilesContinue(outputId) {\n",
              "  const outputElement = document.getElementById(outputId);\n",
              "  const steps = outputElement.steps;\n",
              "\n",
              "  const next = steps.next(outputElement.lastPromiseValue);\n",
              "  return Promise.resolve(next.value.promise).then((value) => {\n",
              "    // Cache the last promise value to make it available to the next\n",
              "    // step of the generator.\n",
              "    outputElement.lastPromiseValue = value;\n",
              "    return next.value.response;\n",
              "  });\n",
              "}\n",
              "\n",
              "/**\n",
              " * Generator function which is called between each async step of the upload\n",
              " * process.\n",
              " * @param {string} inputId Element ID of the input file picker element.\n",
              " * @param {string} outputId Element ID of the output display.\n",
              " * @return {!Iterable<!Object>} Iterable of next steps.\n",
              " */\n",
              "function* uploadFilesStep(inputId, outputId) {\n",
              "  const inputElement = document.getElementById(inputId);\n",
              "  inputElement.disabled = false;\n",
              "\n",
              "  const outputElement = document.getElementById(outputId);\n",
              "  outputElement.innerHTML = '';\n",
              "\n",
              "  const pickedPromise = new Promise((resolve) => {\n",
              "    inputElement.addEventListener('change', (e) => {\n",
              "      resolve(e.target.files);\n",
              "    });\n",
              "  });\n",
              "\n",
              "  const cancel = document.createElement('button');\n",
              "  inputElement.parentElement.appendChild(cancel);\n",
              "  cancel.textContent = 'Cancel upload';\n",
              "  const cancelPromise = new Promise((resolve) => {\n",
              "    cancel.onclick = () => {\n",
              "      resolve(null);\n",
              "    };\n",
              "  });\n",
              "\n",
              "  // Wait for the user to pick the files.\n",
              "  const files = yield {\n",
              "    promise: Promise.race([pickedPromise, cancelPromise]),\n",
              "    response: {\n",
              "      action: 'starting',\n",
              "    }\n",
              "  };\n",
              "\n",
              "  cancel.remove();\n",
              "\n",
              "  // Disable the input element since further picks are not allowed.\n",
              "  inputElement.disabled = true;\n",
              "\n",
              "  if (!files) {\n",
              "    return {\n",
              "      response: {\n",
              "        action: 'complete',\n",
              "      }\n",
              "    };\n",
              "  }\n",
              "\n",
              "  for (const file of files) {\n",
              "    const li = document.createElement('li');\n",
              "    li.append(span(file.name, {fontWeight: 'bold'}));\n",
              "    li.append(span(\n",
              "        `(${file.type || 'n/a'}) - ${file.size} bytes, ` +\n",
              "        `last modified: ${\n",
              "            file.lastModifiedDate ? file.lastModifiedDate.toLocaleDateString() :\n",
              "                                    'n/a'} - `));\n",
              "    const percent = span('0% done');\n",
              "    li.appendChild(percent);\n",
              "\n",
              "    outputElement.appendChild(li);\n",
              "\n",
              "    const fileDataPromise = new Promise((resolve) => {\n",
              "      const reader = new FileReader();\n",
              "      reader.onload = (e) => {\n",
              "        resolve(e.target.result);\n",
              "      };\n",
              "      reader.readAsArrayBuffer(file);\n",
              "    });\n",
              "    // Wait for the data to be ready.\n",
              "    let fileData = yield {\n",
              "      promise: fileDataPromise,\n",
              "      response: {\n",
              "        action: 'continue',\n",
              "      }\n",
              "    };\n",
              "\n",
              "    // Use a chunked sending to avoid message size limits. See b/62115660.\n",
              "    let position = 0;\n",
              "    do {\n",
              "      const length = Math.min(fileData.byteLength - position, MAX_PAYLOAD_SIZE);\n",
              "      const chunk = new Uint8Array(fileData, position, length);\n",
              "      position += length;\n",
              "\n",
              "      const base64 = btoa(String.fromCharCode.apply(null, chunk));\n",
              "      yield {\n",
              "        response: {\n",
              "          action: 'append',\n",
              "          file: file.name,\n",
              "          data: base64,\n",
              "        },\n",
              "      };\n",
              "\n",
              "      let percentDone = fileData.byteLength === 0 ?\n",
              "          100 :\n",
              "          Math.round((position / fileData.byteLength) * 100);\n",
              "      percent.textContent = `${percentDone}% done`;\n",
              "\n",
              "    } while (position < fileData.byteLength);\n",
              "  }\n",
              "\n",
              "  // All done.\n",
              "  yield {\n",
              "    response: {\n",
              "      action: 'complete',\n",
              "    }\n",
              "  };\n",
              "}\n",
              "\n",
              "scope.google = scope.google || {};\n",
              "scope.google.colab = scope.google.colab || {};\n",
              "scope.google.colab._files = {\n",
              "  _uploadFiles,\n",
              "  _uploadFilesContinue,\n",
              "};\n",
              "})(self);\n",
              "</script> "
            ]
          },
          "metadata": {}
        },
        {
          "output_type": "stream",
          "name": "stdout",
          "text": [
            "Saving data.csv to data (7).csv\n"
          ]
        }
      ]
    },
    {
      "cell_type": "code",
      "source": [
        "import pandas as pd\n",
        "\n",
        "df = pd.read_csv('data.csv')\n",
        "df.drop(columns=['id', 'Unnamed: 32'], inplace=True)\n",
        "df['diagnosis'] = df['diagnosis'].map({'B': 0, 'M': 1})  # Encode target"
      ],
      "metadata": {
        "id": "dUvfdfDdlQnE"
      },
      "execution_count": 260,
      "outputs": []
    },
    {
      "cell_type": "code",
      "source": [
        "from sklearn.preprocessing import StandardScaler\n",
        "\n",
        "X = df.drop('diagnosis', axis=1)\n",
        "y = df['diagnosis']\n",
        "\n",
        "scaler = StandardScaler()\n",
        "X_scaled = scaler.fit_transform(X)"
      ],
      "metadata": {
        "id": "zUN7JMEomN7o"
      },
      "execution_count": 261,
      "outputs": []
    },
    {
      "cell_type": "code",
      "source": [
        "from sklearn.model_selection import train_test_split\n",
        "\n",
        "X_train, X_test, y_train, y_test = train_test_split(X_scaled, y, test_size=0.2, random_state=42, stratify=y)"
      ],
      "metadata": {
        "id": "q4WN_kyamQIK"
      },
      "execution_count": 262,
      "outputs": []
    },
    {
      "cell_type": "code",
      "source": [
        "from sklearn.linear_model import LogisticRegression\n",
        "from sklearn.tree import DecisionTreeClassifier\n",
        "from sklearn.ensemble import RandomForestClassifier\n",
        "from sklearn.neighbors import KNeighborsClassifier\n",
        "\n",
        "models = {\n",
        "    'LR': LogisticRegression(class_weight='balanced'),\n",
        "    'DT': DecisionTreeClassifier(class_weight='balanced'),\n",
        "    'RF': RandomForestClassifier(class_weight='balanced'),\n",
        "    'KNN': KNeighborsClassifier()\n",
        "}\n",
        "\n",
        "for name, model in models.items():\n",
        "    model.fit(X_train, y_train)\n",
        "    print(f\"Results for {name}:\")\n",
        "    y_pred = model.predict(X_test)\n",
        "    from sklearn.metrics import classification_report, confusion_matrix\n",
        "    print(confusion_matrix(y_test, y_pred))\n",
        "    print(classification_report(y_test, y_pred))"
      ],
      "metadata": {
        "colab": {
          "base_uri": "https://localhost:8080/"
        },
        "id": "nX5s07s3mY3p",
        "outputId": "568241fd-de9e-4058-e128-cfd39a1ee34a"
      },
      "execution_count": 263,
      "outputs": [
        {
          "output_type": "stream",
          "name": "stdout",
          "text": [
            "Results for LR:\n",
            "[[71  1]\n",
            " [ 2 40]]\n",
            "              precision    recall  f1-score   support\n",
            "\n",
            "           0       0.97      0.99      0.98        72\n",
            "           1       0.98      0.95      0.96        42\n",
            "\n",
            "    accuracy                           0.97       114\n",
            "   macro avg       0.97      0.97      0.97       114\n",
            "weighted avg       0.97      0.97      0.97       114\n",
            "\n",
            "Results for DT:\n",
            "[[69  3]\n",
            " [ 6 36]]\n",
            "              precision    recall  f1-score   support\n",
            "\n",
            "           0       0.92      0.96      0.94        72\n",
            "           1       0.92      0.86      0.89        42\n",
            "\n",
            "    accuracy                           0.92       114\n",
            "   macro avg       0.92      0.91      0.91       114\n",
            "weighted avg       0.92      0.92      0.92       114\n",
            "\n",
            "Results for RF:\n",
            "[[72  0]\n",
            " [ 3 39]]\n",
            "              precision    recall  f1-score   support\n",
            "\n",
            "           0       0.96      1.00      0.98        72\n",
            "           1       1.00      0.93      0.96        42\n",
            "\n",
            "    accuracy                           0.97       114\n",
            "   macro avg       0.98      0.96      0.97       114\n",
            "weighted avg       0.97      0.97      0.97       114\n",
            "\n",
            "Results for KNN:\n",
            "[[71  1]\n",
            " [ 4 38]]\n",
            "              precision    recall  f1-score   support\n",
            "\n",
            "           0       0.95      0.99      0.97        72\n",
            "           1       0.97      0.90      0.94        42\n",
            "\n",
            "    accuracy                           0.96       114\n",
            "   macro avg       0.96      0.95      0.95       114\n",
            "weighted avg       0.96      0.96      0.96       114\n",
            "\n"
          ]
        }
      ]
    },
    {
      "cell_type": "code",
      "source": [
        "# Checking XGBoost"
      ],
      "metadata": {
        "id": "NAt1LlNlHa7D"
      },
      "execution_count": 264,
      "outputs": []
    },
    {
      "cell_type": "code",
      "source": [
        "import xgboost as xgb\n",
        "from sklearn.metrics import accuracy_score, precision_score, recall_score, f1_score, confusion_matrix\n",
        "\n",
        "# Assuming X_train_scaled, X_test_scaled, y_train, y_test are ready\n",
        "\n",
        "# Initialize XGBoost classifier\n",
        "xgb_model = xgb.XGBClassifier(use_label_encoder=False, eval_metric='logloss', scale_pos_weight=(len(y_train) - sum(y_train))/sum(y_train), random_state=42)\n",
        "\n",
        "# Train\n",
        "xgb_model.fit(X_train_scaled, y_train)\n",
        "\n",
        "# Predict\n",
        "y_train_pred = xgb_model.predict(X_train_scaled)\n",
        "y_test_pred = xgb_model.predict(X_test_scaled)\n",
        "\n",
        "# Train metrics\n",
        "train_acc = accuracy_score(y_train, y_train_pred)\n",
        "train_prec = precision_score(y_train, y_train_pred)\n",
        "train_rec = recall_score(y_train, y_train_pred)\n",
        "train_f1 = f1_score(y_train, y_train_pred)\n",
        "train_cm = confusion_matrix(y_train, y_train_pred)\n",
        "\n",
        "# Test metrics\n",
        "test_acc = accuracy_score(y_test, y_test_pred)\n",
        "test_prec = precision_score(y_test, y_test_pred)\n",
        "test_rec = recall_score(y_test, y_test_pred)\n",
        "test_f1 = f1_score(y_test, y_test_pred)\n",
        "test_cm = confusion_matrix(y_test, y_test_pred)\n",
        "\n",
        "print(\"Train Results:\")\n",
        "print(train_cm)\n",
        "print(f\"Accuracy : {train_acc:.3f}\")\n",
        "print(f\"Precision: {train_prec:.3f}\")\n",
        "print(f\"Recall   : {train_rec:.3f}\")\n",
        "print(f\"F1 Score : {train_f1:.3f}\\n\")\n",
        "\n",
        "print(\"Test Results:\")\n",
        "print(test_cm)\n",
        "print(f\"Accuracy : {test_acc:.3f}\")\n",
        "print(f\"Precision: {test_prec:.3f}\")\n",
        "print(f\"Recall   : {test_rec:.3f}\")\n",
        "print(f\"F1 Score : {test_f1:.3f}\")"
      ],
      "metadata": {
        "colab": {
          "base_uri": "https://localhost:8080/"
        },
        "id": "SUeGUu1cAegk",
        "outputId": "c7c2a02c-a672-4bf9-f332-3ea8a3fda7e9"
      },
      "execution_count": 265,
      "outputs": [
        {
          "output_type": "stream",
          "name": "stdout",
          "text": [
            "Train Results:\n",
            "[[285   0]\n",
            " [  0 170]]\n",
            "Accuracy : 1.000\n",
            "Precision: 1.000\n",
            "Recall   : 1.000\n",
            "F1 Score : 1.000\n",
            "\n",
            "Test Results:\n",
            "[[48 24]\n",
            " [28 14]]\n",
            "Accuracy : 0.544\n",
            "Precision: 0.368\n",
            "Recall   : 0.333\n",
            "F1 Score : 0.350\n"
          ]
        }
      ]
    },
    {
      "cell_type": "markdown",
      "source": [
        "**Let’s summarise the most relevant values from your outputs:**"
      ],
      "metadata": {
        "id": "cMveUxGBpAl_"
      }
    },
    {
      "cell_type": "code",
      "source": [
        "from sklearn.metrics import confusion_matrix, precision_score, recall_score, accuracy_score\n",
        "\n",
        "print(\"MODEL SUMMARY (focus on Malignant detection)\\n\")\n",
        "print(f\"{'Model':<12} {'Acc(1)':<6} {'Prec(1)':<9} {'Rec(1)':<10} {'F1(1)':<9} {'FalseNeg'}\")\n",
        "print(\"-\" * 60)\n",
        "\n",
        "for name, model in models.items():\n",
        "    y_pred = model.predict(X_test)\n",
        "    cm = confusion_matrix(y_test, y_pred)\n",
        "    TN, FP, FN, TP = cm.ravel()\n",
        "\n",
        "    acc = accuracy_score(y_test, y_pred)\n",
        "    prec = precision_score(y_test, y_pred)\n",
        "    recall = recall_score(y_test, y_pred)\n",
        "\n",
        "    print(f\"{name:<12}  {acc:.2f}    {prec:.2f}      {recall:.2f}    {f1:.2f}       {FN}\")"
      ],
      "metadata": {
        "colab": {
          "base_uri": "https://localhost:8080/"
        },
        "id": "MKM9nzRHoxAw",
        "outputId": "43982655-cc1e-4bac-e784-b49c029c2c9a"
      },
      "execution_count": 266,
      "outputs": [
        {
          "output_type": "stream",
          "name": "stdout",
          "text": [
            "MODEL SUMMARY (focus on Malignant detection)\n",
            "\n",
            "Model        Acc(1) Prec(1)   Rec(1)     F1(1)     FalseNeg\n",
            "------------------------------------------------------------\n",
            "LR            0.97    0.98      0.95    0.55       2\n",
            "DT            0.92    0.92      0.86    0.55       6\n",
            "RF            0.97    1.00      0.93    0.55       3\n",
            "KNN           0.96    0.97      0.90    0.55       4\n"
          ]
        }
      ]
    },
    {
      "cell_type": "markdown",
      "source": [
        "**Recall:** How many malignant cases the model caught\n",
        "\n",
        "**False Negatives:** Missed cancer cases (critical metric)\n",
        "\n",
        "**Precision:** Of the predicted malignant cases, how many were correct?\n",
        "\n",
        "**Accuracy:** Overall performance (less critical here compared to missed cancer cases)\n",
        "\n",
        "**Interpretation:**\n",
        "\n",
        "\n",
        "*   **Best Recall:** Logistic Regression (0.95)\n",
        "*   **Fewest FN:** Logistic Regression (2)\n",
        "\n",
        "*   **Highest Precision:** Random Forest (1.00)"
      ],
      "metadata": {
        "id": "cp_8jbLopcz4"
      }
    },
    {
      "cell_type": "code",
      "source": [
        "y_probs = models['LR'].predict_proba(X_test)[:, 1]\n",
        "\n",
        "for t in [0.5, 0.4, 0.3]:\n",
        "    y_pred_thresh = (y_probs > t).astype(int)\n",
        "    cm = confusion_matrix(y_test, y_pred_thresh)\n",
        "    recall = recall_score(y_test, y_pred_thresh)\n",
        "    print(f\"\\nThreshold = {t}\")\n",
        "    print(\"Confusion Matrix:\\n\", cm)\n",
        "    print(f\"Recall: {recall:.2f}\")"
      ],
      "metadata": {
        "colab": {
          "base_uri": "https://localhost:8080/"
        },
        "id": "rBxnH3AQqSX6",
        "outputId": "57afcc5b-70b9-4a3e-a096-d4e04584858f"
      },
      "execution_count": 267,
      "outputs": [
        {
          "output_type": "stream",
          "name": "stdout",
          "text": [
            "\n",
            "Threshold = 0.5\n",
            "Confusion Matrix:\n",
            " [[71  1]\n",
            " [ 2 40]]\n",
            "Recall: 0.95\n",
            "\n",
            "Threshold = 0.4\n",
            "Confusion Matrix:\n",
            " [[71  1]\n",
            " [ 2 40]]\n",
            "Recall: 0.95\n",
            "\n",
            "Threshold = 0.3\n",
            "Confusion Matrix:\n",
            " [[70  2]\n",
            " [ 2 40]]\n",
            "Recall: 0.95\n"
          ]
        }
      ]
    },
    {
      "cell_type": "code",
      "source": [
        "from sklearn.metrics import precision_score, recall_score, confusion_matrix\n",
        "\n",
        "thresholds = [0.5, 0.4, 0.3, 0.25, 0.2]\n",
        "\n",
        "for t in thresholds:\n",
        "    y_pred_thresh = (y_probs > t).astype(int)\n",
        "    cm = confusion_matrix(y_test, y_pred_thresh)\n",
        "    precision = precision_score(y_test, y_pred_thresh)\n",
        "    recall = recall_score(y_test, y_pred_thresh)\n",
        "    print(f\"\\nThreshold = {t}\")\n",
        "    print(\"Confusion Matrix:\\n\", cm)\n",
        "    print(f\"Precision: {precision:.3f}\")\n",
        "    print(f\"Recall   : {recall:.3f}\")"
      ],
      "metadata": {
        "colab": {
          "base_uri": "https://localhost:8080/"
        },
        "id": "vZBRuznbu_cw",
        "outputId": "9c901cc1-2069-446c-d7f2-45b7eb9efa1f"
      },
      "execution_count": 268,
      "outputs": [
        {
          "output_type": "stream",
          "name": "stdout",
          "text": [
            "\n",
            "Threshold = 0.5\n",
            "Confusion Matrix:\n",
            " [[71  1]\n",
            " [ 2 40]]\n",
            "Precision: 0.976\n",
            "Recall   : 0.952\n",
            "\n",
            "Threshold = 0.4\n",
            "Confusion Matrix:\n",
            " [[71  1]\n",
            " [ 2 40]]\n",
            "Precision: 0.976\n",
            "Recall   : 0.952\n",
            "\n",
            "Threshold = 0.3\n",
            "Confusion Matrix:\n",
            " [[70  2]\n",
            " [ 2 40]]\n",
            "Precision: 0.952\n",
            "Recall   : 0.952\n",
            "\n",
            "Threshold = 0.25\n",
            "Confusion Matrix:\n",
            " [[68  4]\n",
            " [ 1 41]]\n",
            "Precision: 0.911\n",
            "Recall   : 0.976\n",
            "\n",
            "Threshold = 0.2\n",
            "Confusion Matrix:\n",
            " [[68  4]\n",
            " [ 1 41]]\n",
            "Precision: 0.911\n",
            "Recall   : 0.976\n"
          ]
        }
      ]
    },
    {
      "cell_type": "code",
      "source": [
        "from sklearn.model_selection import cross_val_score\n",
        "\n",
        "lr = LogisticRegression(class_weight='balanced')\n",
        "recall_scores = cross_val_score(lr, X_scaled, y, cv=5, scoring='recall')\n",
        "print(\"Cross-validated recall scores:\", recall_scores)\n",
        "print(\"Mean Recall:\", recall_scores.mean())"
      ],
      "metadata": {
        "colab": {
          "base_uri": "https://localhost:8080/"
        },
        "id": "fi3Y-uaOv_7s",
        "outputId": "a55aaec6-624d-42dc-9852-12916394acf4"
      },
      "execution_count": 269,
      "outputs": [
        {
          "output_type": "stream",
          "name": "stdout",
          "text": [
            "Cross-validated recall scores: [0.97674419 0.95348837 0.95238095 0.95238095 1.        ]\n",
            "Mean Recall: 0.9669988925802879\n"
          ]
        }
      ]
    },
    {
      "cell_type": "code",
      "source": [
        "import joblib\n",
        "joblib.dump(models['LR'], 'breast_cancer_model.pkl')"
      ],
      "metadata": {
        "colab": {
          "base_uri": "https://localhost:8080/"
        },
        "id": "LSFR4ydcwPL_",
        "outputId": "0c104f90-9d1a-471f-c931-ecf669a067ed"
      },
      "execution_count": 270,
      "outputs": [
        {
          "output_type": "execute_result",
          "data": {
            "text/plain": [
              "['breast_cancer_model.pkl']"
            ]
          },
          "metadata": {},
          "execution_count": 270
        }
      ]
    },
    {
      "cell_type": "code",
      "source": [
        "import matplotlib.pyplot as plt\n",
        "from sklearn.metrics import precision_recall_curve, average_precision_score, precision_score, recall_score\n",
        "\n",
        "# Predicted probabilities for positive class\n",
        "y_probs = models['LR'].predict_proba(X_test)[:, 1]\n",
        "\n",
        "# Compute precision-recall curve\n",
        "precision, recall, thresholds = precision_recall_curve(y_test, y_probs)\n",
        "\n",
        "# Compute average precision score (area under PR curve)\n",
        "avg_precision = average_precision_score(y_test, y_probs)\n",
        "\n",
        "# Calculate precision and recall at 0.5 threshold\n",
        "threshold = 0.5\n",
        "y_pred_05 = (y_probs >= threshold).astype(int)\n",
        "prec_05 = precision_score(y_test, y_pred_05)\n",
        "rec_05 = recall_score(y_test, y_pred_05)\n",
        "\n",
        "plt.figure(figsize=(8, 6))\n",
        "plt.plot(recall, precision, label=f'PR curve (AP = {avg_precision:.2f})', color='blue')\n",
        "plt.scatter(rec_05, prec_05, color='red', s=100, label=f'Threshold = {threshold}\\nPrecision={prec_05:.3f}\\nRecall={rec_05:.3f}')\n",
        "plt.xlabel('Recall')\n",
        "plt.ylabel('Precision')\n",
        "plt.title('Precision-Recall Curve for Logistic Regression')\n",
        "plt.legend()\n",
        "plt.grid(True)\n",
        "plt.show()"
      ],
      "metadata": {
        "colab": {
          "base_uri": "https://localhost:8080/",
          "height": 564
        },
        "id": "iyvhTBzNwTmu",
        "outputId": "b448e18f-f421-4b75-96c8-22fd155c4aad"
      },
      "execution_count": 271,
      "outputs": [
        {
          "output_type": "display_data",
          "data": {
            "text/plain": [
              "<Figure size 800x600 with 1 Axes>"
            ],
            "image/png": "[encoded data removed]"
          },
          "metadata": {}
        }
      ]
    },
    {
      "cell_type": "code",
      "source": [
        "from sklearn.preprocessing import StandardScaler\n",
        "from sklearn.linear_model import LogisticRegression\n",
        "from sklearn.metrics import accuracy_score, precision_score, recall_score, confusion_matrix\n",
        "\n",
        "# Step 1: Scale features\n",
        "\n",
        "scaler = StandardScaler()\n",
        "X_train_scaled = scaler.fit_transform(X_train)   # fit on train data\n",
        "X_test_scaled = scaler.transform(X_test)         # transform test data"
      ],
      "metadata": {
        "id": "bZm6D-NGwjX1"
      },
      "execution_count": 272,
      "outputs": []
    },
    {
      "cell_type": "code",
      "source": [
        "# Step 2: Train model\n",
        "\n",
        "lr_model = LogisticRegression(class_weight='balanced', random_state=42)\n",
        "lr_model.fit(X_train_scaled, y_train)\n",
        "\n",
        "# Step 3: Predict probabilities\n",
        "\n",
        "y_train_probs = lr_model.predict_proba(X_train_scaled)[:, 1]\n",
        "y_test_probs = lr_model.predict_proba(X_test_scaled)[:, 1]\n",
        "\n",
        "# Step 4: Apply threshold = 0.5\n",
        "\n",
        "threshold = 0.5\n",
        "y_train_pred = (y_train_probs >= threshold).astype(int)\n",
        "y_test_pred = (y_test_probs >= threshold).astype(int)"
      ],
      "metadata": {
        "id": "If242RrlyROe"
      },
      "execution_count": 273,
      "outputs": []
    },
    {
      "cell_type": "code",
      "source": [
        "# Step 5: Calculate metrics\n",
        "train_acc = accuracy_score(y_train, y_train_pred)\n",
        "train_prec = precision_score(y_train, y_train_pred)\n",
        "train_rec = recall_score(y_train, y_train_pred)\n",
        "train_f1 = f1_score(y_train, y_train_pred)\n",
        "train_cm = confusion_matrix(y_train, y_train_pred)\n",
        "\n",
        "test_acc = accuracy_score(y_test, y_test_pred)\n",
        "test_prec = precision_score(y_test, y_test_pred)\n",
        "test_rec = recall_score(y_test, y_test_pred)\n",
        "test_f1 = f1_score(y_test, y_test_pred)\n",
        "test_cm = confusion_matrix(y_test, y_test_pred)\n",
        "\n",
        "\n",
        "print(\"Train Results:\")\n",
        "print(\"Confusion Matrix:\\n\", train_cm)\n",
        "print(f\"Accuracy: {train_acc:.3f}\")\n",
        "print(f\"Precision: {train_prec:.3f}\")\n",
        "print(f\"Recall: {train_rec:.3f}\")\n",
        "print(f\"F1 Score : {train_f1:.3f}\\n\")\n",
        "\n",
        "print(\"Test Results:\")\n",
        "print(\"Confusion Matrix:\\n\", test_cm)\n",
        "print(f\"Accuracy: {test_acc:.3f}\")\n",
        "print(f\"Precision: {test_prec:.3f}\")\n",
        "print(f\"Recall: {test_rec:.3f}\")\n",
        "print(f\"F1 Score : {test_f1:.3f}\")"
      ],
      "metadata": {
        "colab": {
          "base_uri": "https://localhost:8080/"
        },
        "id": "EwN5BlWryc9A",
        "outputId": "97f3ac8d-b95b-4be2-e177-1566fbb786df"
      },
      "execution_count": 274,
      "outputs": [
        {
          "output_type": "stream",
          "name": "stdout",
          "text": [
            "Train Results:\n",
            "Confusion Matrix:\n",
            " [[282   3]\n",
            " [  3 167]]\n",
            "Accuracy: 0.987\n",
            "Precision: 0.982\n",
            "Recall: 0.982\n",
            "F1 Score : 0.982\n",
            "\n",
            "Test Results:\n",
            "Confusion Matrix:\n",
            " [[71  1]\n",
            " [ 2 40]]\n",
            "Accuracy: 0.974\n",
            "Precision: 0.976\n",
            "Recall: 0.952\n",
            "F1 Score : 0.964\n"
          ]
        }
      ]
    },
    {
      "cell_type": "code",
      "source": [
        "import matplotlib.pyplot as plt\n",
        "import numpy as np\n",
        "\n",
        "# Include F1 score in your metrics\n",
        "metrics = ['Accuracy', 'Precision', 'Recall', 'F1 Score']\n",
        "train_scores = [train_acc, train_prec, train_rec, train_f1]\n",
        "test_scores = [test_acc, test_prec, test_rec, test_f1]\n",
        "\n",
        "x = np.arange(len(metrics))\n",
        "width = 0.35\n",
        "\n",
        "fig, ax = plt.subplots(figsize=(9, 5))\n",
        "bars1 = ax.bar(x - width/2, train_scores, width, label='Train', color='skyblue')\n",
        "bars2 = ax.bar(x + width/2, test_scores, width, label='Test', color='salmon')\n",
        "\n",
        "ax.set_ylabel('Score')\n",
        "ax.set_title('Logistic Regression Performance (Threshold = 0.5)')\n",
        "ax.set_xticks(x)\n",
        "ax.set_xticklabels(metrics)\n",
        "ax.set_ylim(0, 1.05)\n",
        "ax.legend()\n",
        "ax.grid(True, axis='y', linestyle='--', alpha=0.6)\n",
        "\n",
        "# Annotate bars with values\n",
        "for bar in bars1 + bars2:\n",
        "    height = bar.get_height()\n",
        "    ax.annotate(f'{height:.3f}', xy=(bar.get_x() + bar.get_width() / 2, height),\n",
        "                xytext=(0, 3), textcoords=\"offset points\",\n",
        "                ha='center', va='bottom', fontsize=9)\n",
        "\n",
        "plt.tight_layout()\n",
        "plt.show()"
      ],
      "metadata": {
        "colab": {
          "base_uri": "https://localhost:8080/",
          "height": 507
        },
        "id": "xm4_lnmVxkXd",
        "outputId": "fb715758-9cb5-4ef3-e6d9-261d13dc5cc2"
      },
      "execution_count": 275,
      "outputs": [
        {
          "output_type": "display_data",
          "data": {
            "text/plain": [
              "<Figure size 900x500 with 1 Axes>"
            ],
            "image/png": "[encoded data removed]"
          },
          "metadata": {}
        }
      ]
    },
    {
      "cell_type": "code",
      "source": [
        "# now onto analysing the features (and feature coefficients)\n",
        "# to see which features can be dropped for better accuracy\n",
        "\n",
        "lr = models['LR']\n",
        "coefs = lr.coef_[0]\n",
        "\n",
        "for feature, coef in zip(X.columns, coefs):\n",
        "    print(f\"{feature:<30}: {coef:.4f}\")"
      ],
      "metadata": {
        "colab": {
          "base_uri": "https://localhost:8080/"
        },
        "id": "SQwDOAlqx61v",
        "outputId": "9ed66ab0-977d-4ae9-893f-0eb1aa17d6cc"
      },
      "execution_count": 276,
      "outputs": [
        {
          "output_type": "stream",
          "name": "stdout",
          "text": [
            "radius_mean                   : 0.3008\n",
            "texture_mean                  : 0.4488\n",
            "perimeter_mean                : 0.2976\n",
            "area_mean                     : 0.3914\n",
            "smoothness_mean               : 0.3525\n",
            "compactness_mean              : -0.5484\n",
            "concavity_mean                : 0.7658\n",
            "concave points_mean           : 0.9634\n",
            "symmetry_mean                 : -0.2145\n",
            "fractal_dimension_mean        : -0.0310\n",
            "radius_se                     : 1.2830\n",
            "texture_se                    : -0.3734\n",
            "perimeter_se                  : 0.7366\n",
            "area_se                       : 0.9402\n",
            "smoothness_se                 : 0.2303\n",
            "compactness_se                : -0.9631\n",
            "concavity_se                  : -0.1458\n",
            "concave points_se             : 0.5626\n",
            "symmetry_se                   : -0.3840\n",
            "fractal_dimension_se          : -0.5883\n",
            "radius_worst                  : 0.8833\n",
            "texture_worst                 : 1.4758\n",
            "perimeter_worst               : 0.6958\n",
            "area_worst                    : 0.8979\n",
            "smoothness_worst              : 0.3429\n",
            "compactness_worst             : -0.1942\n",
            "concavity_worst               : 0.9372\n",
            "concave points_worst          : 0.7404\n",
            "symmetry_worst                : 1.0799\n",
            "fractal_dimension_worst       : 0.0694\n"
          ]
        }
      ]
    },
    {
      "cell_type": "markdown",
      "source": [
        "**Removing 'fractal_dimension_mean'**"
      ],
      "metadata": {
        "id": "0P30AMfJ8UWT"
      }
    },
    {
      "cell_type": "code",
      "source": [
        "feature_names = X.columns.tolist()\n",
        "\n",
        "index_to_drop = feature_names.index('fractal_dimension_mean')"
      ],
      "metadata": {
        "id": "BTxC-m_c5E31"
      },
      "execution_count": 277,
      "outputs": []
    },
    {
      "cell_type": "code",
      "source": [
        "from sklearn.model_selection import train_test_split\n",
        "X_train, X_test, y_train, y_test = train_test_split(X.values, y.values, test_size=0.2, random_state=42)"
      ],
      "metadata": {
        "id": "sI4trpLr5rGp"
      },
      "execution_count": 278,
      "outputs": []
    },
    {
      "cell_type": "code",
      "source": [
        "import numpy as np\n",
        "\n",
        "# Drop column index from NumPy arrays\n",
        "X_train_reduced = np.delete(X_train, index_to_drop, axis=1)\n",
        "X_test_reduced = np.delete(X_test, index_to_drop, axis=1)"
      ],
      "metadata": {
        "id": "zbyiYg-O6MMF"
      },
      "execution_count": 279,
      "outputs": []
    },
    {
      "cell_type": "code",
      "source": [
        "from sklearn.preprocessing import StandardScaler\n",
        "scaler = StandardScaler()\n",
        "X_train_scaled = scaler.fit_transform(X_train_reduced)\n",
        "X_test_scaled = scaler.transform(X_test_reduced)"
      ],
      "metadata": {
        "id": "6pPNr9ai6OCh"
      },
      "execution_count": 280,
      "outputs": []
    },
    {
      "cell_type": "code",
      "source": [
        "from sklearn.linear_model import LogisticRegression\n",
        "from sklearn.metrics import accuracy_score, precision_score, recall_score, confusion_matrix\n",
        "\n",
        "model = LogisticRegression(class_weight='balanced', random_state=42)\n",
        "model.fit(X_train_scaled, y_train)\n",
        "\n",
        "# Predictions with threshold = 0.5\n",
        "y_train_pred = model.predict(X_train_scaled)\n",
        "y_test_pred = model.predict(X_test_scaled)\n",
        "\n",
        "print(\"Train Results:\")\n",
        "print(confusion_matrix(y_train, y_train_pred))\n",
        "print(f\"Accuracy : {accuracy_score(y_train, y_train_pred):.3f}\")\n",
        "print(f\"Precision: {precision_score(y_train, y_train_pred):.3f}\")\n",
        "print(f\"Recall   : {recall_score(y_train, y_train_pred):.3f}\")\n",
        "print(f\"F1 Score : {f1_score(y_train, y_train_pred):.3f}\\n\")\n",
        "\n",
        "print(\"Test Results:\")\n",
        "print(confusion_matrix(y_test, y_test_pred))\n",
        "print(f\"Accuracy : {accuracy_score(y_test, y_test_pred):.3f}\")\n",
        "print(f\"Precision: {precision_score(y_test, y_test_pred):.3f}\")\n",
        "print(f\"Recall   : {recall_score(y_test, y_test_pred):.3f}\")\n",
        "print(f\"F1 Score : {f1_score(y_test, y_test_pred):.3f}\")"
      ],
      "metadata": {
        "colab": {
          "base_uri": "https://localhost:8080/"
        },
        "id": "QtnvL_DG6P9E",
        "outputId": "e61d8ca9-1d82-4028-ffa7-afe71de2b59b"
      },
      "execution_count": 281,
      "outputs": [
        {
          "output_type": "stream",
          "name": "stdout",
          "text": [
            "Train Results:\n",
            "[[283   3]\n",
            " [  3 166]]\n",
            "Accuracy : 0.987\n",
            "Precision: 0.982\n",
            "Recall   : 0.982\n",
            "F1 Score : 0.982\n",
            "\n",
            "Test Results:\n",
            "[[70  1]\n",
            " [ 1 42]]\n",
            "Accuracy : 0.982\n",
            "Precision: 0.977\n",
            "Recall   : 0.977\n",
            "F1 Score : 0.977\n"
          ]
        }
      ]
    },
    {
      "cell_type": "code",
      "source": [
        "import matplotlib.pyplot as plt\n",
        "import numpy as np\n",
        "from sklearn.metrics import f1_score\n",
        "\n",
        "# Calculate metrics including F1\n",
        "metrics_train = {\n",
        "    'Accuracy': accuracy_score(y_train, y_train_pred),\n",
        "    'Precision': precision_score(y_train, y_train_pred),\n",
        "    'Recall': recall_score(y_train, y_train_pred),\n",
        "    'F1 Score': f1_score(y_train, y_train_pred)\n",
        "}\n",
        "\n",
        "metrics_test = {\n",
        "    'Accuracy': accuracy_score(y_test, y_test_pred),\n",
        "    'Precision': precision_score(y_test, y_test_pred),\n",
        "    'Recall': recall_score(y_test, y_test_pred),\n",
        "    'F1 Score': f1_score(y_test, y_test_pred)\n",
        "}\n",
        "\n",
        "# Prepare data\n",
        "labels = list(metrics_train.keys())\n",
        "train_scores = list(metrics_train.values())\n",
        "test_scores = list(metrics_test.values())\n",
        "\n",
        "x = np.arange(len(labels))  # label locations\n",
        "width = 0.35  # width of the bars\n",
        "\n",
        "fig, ax = plt.subplots(figsize=(8,5))\n",
        "rects1 = ax.bar(x - width/2, train_scores, width, label='Train', color='skyblue')\n",
        "rects2 = ax.bar(x + width/2, test_scores, width, label='Test', color='salmon')\n",
        "\n",
        "# Labels, title, ticks\n",
        "ax.set_ylabel('Score')\n",
        "ax.set_title('Logistic Regression Performance (Threshold = 0.5)')\n",
        "ax.set_xticks(x)\n",
        "ax.set_xticklabels(labels)\n",
        "ax.set_ylim(0, 1.1)\n",
        "ax.legend()\n",
        "ax.grid(True, axis='y', linestyle='--', alpha=0.6)\n",
        "\n",
        "# Text labels above bars\n",
        "def autolabel(rects):\n",
        "    for rect in rects:\n",
        "        height = rect.get_height()\n",
        "        ax.annotate(f'{height:.3f}',\n",
        "                    xy=(rect.get_x() + rect.get_width()/2, height),\n",
        "                    xytext=(0,3),\n",
        "                    textcoords=\"offset points\",\n",
        "                    ha='center', va='bottom')\n",
        "\n",
        "autolabel(rects1)\n",
        "autolabel(rects2)\n",
        "\n",
        "plt.tight_layout()\n",
        "plt.show()"
      ],
      "metadata": {
        "colab": {
          "base_uri": "https://localhost:8080/",
          "height": 507
        },
        "id": "kbQoeD9q80Lf",
        "outputId": "4e96921f-cd27-4bae-f322-9fe891b6a1ed"
      },
      "execution_count": 282,
      "outputs": [
        {
          "output_type": "display_data",
          "data": {
            "text/plain": [
              "<Figure size 800x500 with 1 Axes>"
            ],
            "image/png": "[encoded data removed]"
          },
          "metadata": {}
        }
      ]
    },
    {
      "cell_type": "markdown",
      "source": [
        "## **Train performance:**\n",
        "\n",
        "Virtually unchanged, indicating model robustness on training data (removing the feature did not reduce the model’s capacity or cause overfitting)\n",
        "\n",
        "## **Test performance:**\n",
        "\n",
        "**Accuracy** improved by 0.8% (better overall correct classification on unseen data)\n",
        "\n",
        "**Recall** improved by 2.5%\n",
        "(crucial since recall reflects the model’s ability to correctly detect malignant tumors: reducing false negatives)\n",
        "\n",
        "**Precision** improved by 0.1%\n",
        "(model maintains or slightly improves its confidence in positive predictions, keeping false positives low)\n",
        "\n",
        "**F1 score** improved by 1.3% (increase reflects better balance between precision and recall)\n",
        "\n",
        "\n",
        "*   Suggests that fractal_dimension_mean might have been noisy or less informative, and dropping it helps generalisation.\n",
        "\n"
      ],
      "metadata": {
        "id": "qsb0jkaA-8qC"
      }
    },
    {
      "cell_type": "markdown",
      "source": [
        "# **Final Conclusions**\n",
        "### **(using Liner Regression Model with modifications)**\n",
        "\n",
        "**Key Highlights**\n",
        "\n",
        "*   **High accuracy** on both train and test sets shows strong generalisation with minimal overfitting.\n",
        "\n",
        "*   **Recall of 97.7%** on the test set means the model correctly detects almost all malignant tumors, which is critical in healthcare.\n",
        "\n",
        "* Dropping 'fractal_dimension_mean' actually improved recall and accuracy, suggesting that the feature was noisy or unhelpful.\n",
        "\n",
        "* **Only 1 false negative** in test data: a major improvement, as false negatives are the most dangerous outcomes (misclassifying cancer as non-cancer)."
      ],
      "metadata": {
        "id": "ETcQ8zhZ__AN"
      }
    },
    {
      "cell_type": "code",
      "source": [],
      "metadata": {
        "id": "ZKM7vu5rHTot"
      },
      "execution_count": 285,
      "outputs": []
    }
  ]
}